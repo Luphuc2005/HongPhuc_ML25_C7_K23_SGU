{
 "cells": [
  {
   "cell_type": "markdown",
   "id": "160403be",
   "metadata": {},
   "source": [
    "# Digits Classification using Logistic Regression\n"
   ]
  }
 ],
 "metadata": {
  "language_info": {
   "name": "python"
  }
 },
 "nbformat": 4,
 "nbformat_minor": 5
}
